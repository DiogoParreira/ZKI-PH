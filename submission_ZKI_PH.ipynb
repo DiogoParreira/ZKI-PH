{
 "cells": [
  {
   "cell_type": "code",
   "execution_count": 1,
   "id": "89c014d4",
   "metadata": {},
   "outputs": [
    {
     "name": "stderr",
     "output_type": "stream",
     "text": [
      "c:\\Users\\de-schrijvers\\.conda\\envs\\mosqlimate\\lib\\site-packages\\tqdm\\auto.py:21: TqdmWarning: IProgress not found. Please update jupyter and ipywidgets. See https://ipywidgets.readthedocs.io/en/stable/user_install.html\n",
      "  from .autonotebook import tqdm as notebook_tqdm\n"
     ]
    }
   ],
   "source": [
    "import numpy as np\n",
    "import pandas as pd\n",
    "import mosqlient as mosq\n",
    "from epiweeks import Week\n",
    "from prophet import Prophet\n",
    "import matplotlib.pyplot as plt"
   ]
  },
  {
   "cell_type": "code",
   "execution_count": 2,
   "id": "1c99c736",
   "metadata": {},
   "outputs": [],
   "source": [
    "import os\n",
    "from dotenv import load_dotenv\n",
    "\n",
    "load_dotenv()\n",
    "\n",
    "api_key = os.getenv('API_KEY')"
   ]
  },
  {
   "cell_type": "markdown",
   "id": "9b4026f7",
   "metadata": {},
   "source": [
    "## Uploading the model"
   ]
  },
  {
   "cell_type": "code",
   "execution_count": null,
   "id": "f92b2505",
   "metadata": {},
   "outputs": [
    {
     "data": {
      "text/plain": [
       "{'id': 138,\n",
       " 'name': 'TSMixer ZKI-PH4 - sprint 2025',\n",
       " 'description': 'TSmixer-based model using TiRex-forecasted features',\n",
       " 'author': {'user': {'name': 'Stends', 'username': 'stends2001'},\n",
       "  'institution': None},\n",
       " 'repository': 'https://github.com/DiogoParreira/ZKI-PH',\n",
       " 'implementation_language': {'language': 'Python'},\n",
       " 'disease': 'dengue',\n",
       " 'categorical': False,\n",
       " 'spatial': True,\n",
       " 'temporal': True,\n",
       " 'adm_level': 1,\n",
       " 'time_resolution': 'week',\n",
       " 'sprint': True}"
      ]
     },
     "execution_count": 3,
     "metadata": {},
     "output_type": "execute_result"
    }
   ],
   "source": [
    "name = \"TSMixer ZKI-PH4 - sprint 2025\"\n",
    "description = \"TSmixer-based model using TiRex-forecasted features\"\n",
    "repository = \"https://github.com/DiogoParreira/ZKI-PH\"\n",
    "implementation_language = \"Python\"\n",
    "disease = \"dengue\"\n",
    "temporal = True\n",
    "spatial = False\n",
    "categorical = False\n",
    "adm_level = 1\n",
    "time_resolution = \"week\"\n",
    "sprint = True\n",
    "\n",
    "model = mosq.upload_model(\n",
    "    api_key=api_key,\n",
    "    name=name,\n",
    "    description=description,\n",
    "    repository=repository,\n",
    "    implementation_language=implementation_language,\n",
    "    disease=disease,\n",
    "    temporal=temporal,\n",
    "    spatial=spatial,\n",
    "    categorical=categorical,\n",
    "    adm_level=adm_level,\n",
    "    time_resolution=time_resolution,\n",
    "    sprint=sprint\n",
    ")\n",
    "model.dict()"
   ]
  },
  {
   "cell_type": "markdown",
   "id": "8fe48fea",
   "metadata": {},
   "source": [
    "## Uploading the predictions"
   ]
  },
  {
   "cell_type": "code",
   "execution_count": null,
   "id": "e8f72350",
   "metadata": {},
   "outputs": [],
   "source": [
    "states = ['AC', 'TO', 'MT', 'AM', 'AL', 'BA', 'RS', 'MG', 'PR', 'PA', 'RR',\n",
    "        'RN', 'RJ', 'CE', 'MA', 'SP', 'MS', 'PB', 'SE', 'GO', 'DF', 'AP',\n",
    "        'PE', 'PI', 'SC', 'RO']\n",
    "\n",
    "\n",
    "for dataset_idx in range(1,4):\n",
    "    predictions = pd.read_csv(f'data/predictions/df_all_predictions_{dataset_idx}.csv')\n",
    "\n",
    "    for st in states: \n",
    "        predictions_state = predictions[predictions['uf'] == st]\n",
    "        \n",
    "        descript = f'pred_task{dataset_idx}_{st}'\n",
    "\n",
    "\n",
    "        # res = mosq.upload_prediction(\n",
    "        #             model_id = 138, \n",
    "        #             description = 'predictions for sprint 2025 preds of the Prophet model in DF', \n",
    "        #             commit = 'df1c695eaa5af5edb125a9d4ec72a4d2528c7411',\n",
    "        #             predict_date = '2025-07-31', \n",
    "        #             prediction = predictions,\n",
    "        #             adm_1=\"st\",\n",
    "        #             api_key = api_key)"
   ]
  },
  {
   "cell_type": "code",
   "execution_count": 15,
   "id": "0fd75d52",
   "metadata": {},
   "outputs": [
    {
     "data": {
      "text/plain": [
       "'pred_task3_RO'"
      ]
     },
     "execution_count": 15,
     "metadata": {},
     "output_type": "execute_result"
    }
   ],
   "source": [
    "descript"
   ]
  },
  {
   "cell_type": "code",
   "execution_count": 7,
   "id": "2c4e0072",
   "metadata": {},
   "outputs": [
    {
     "data": {
      "text/plain": [
       "array(['2024-06-23', '2024-06-30', '2024-07-07', '2024-07-14',\n",
       "       '2024-07-21', '2024-07-28', '2024-08-04', '2024-08-11',\n",
       "       '2024-08-18', '2024-08-25', '2024-09-01', '2024-09-08',\n",
       "       '2024-09-15', '2024-09-22', '2024-09-29', '2024-10-06',\n",
       "       '2024-10-13', '2024-10-20', '2024-10-27', '2024-11-03',\n",
       "       '2024-11-10', '2024-11-17', '2024-11-24', '2024-12-01',\n",
       "       '2024-12-08', '2024-12-15', '2024-12-22', '2024-12-29',\n",
       "       '2025-01-05', '2025-01-12', '2025-01-19', '2025-01-26',\n",
       "       '2025-02-02', '2025-02-09', '2025-02-16', '2025-02-23',\n",
       "       '2025-03-02', '2025-03-09', '2025-03-16', '2025-03-23',\n",
       "       '2025-03-30', '2025-04-06', '2025-04-13', '2025-04-20'],\n",
       "      dtype=object)"
      ]
     },
     "execution_count": 7,
     "metadata": {},
     "output_type": "execute_result"
    }
   ],
   "source": [
    "predictions_1['date'].unique()"
   ]
  }
 ],
 "metadata": {
  "kernelspec": {
   "display_name": "mosqlimate",
   "language": "python",
   "name": "python3"
  },
  "language_info": {
   "codemirror_mode": {
    "name": "ipython",
    "version": 3
   },
   "file_extension": ".py",
   "mimetype": "text/x-python",
   "name": "python",
   "nbconvert_exporter": "python",
   "pygments_lexer": "ipython3",
   "version": "3.10.18"
  }
 },
 "nbformat": 4,
 "nbformat_minor": 5
}
