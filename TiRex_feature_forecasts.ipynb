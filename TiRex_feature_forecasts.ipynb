{
 "cells": [
  {
   "cell_type": "code",
   "execution_count": null,
   "metadata": {},
   "outputs": [
    {
     "name": "stdout",
     "output_type": "stream",
     "text": [
      "Loading weights from local directory\n"
     ]
    },
    {
     "name": "stderr",
     "output_type": "stream",
     "text": [
      "/home/bangertb/.conda/envs/tirex/lib/python3.11/site-packages/xlstm/blocks/slstm/cell.py:543: FutureWarning: `torch.cuda.amp.custom_fwd(args...)` is deprecated. Please use `torch.amp.custom_fwd(args..., device_type='cuda')` instead.\n",
      "  @conditional_decorator(\n",
      "/home/bangertb/.conda/envs/tirex/lib/python3.11/site-packages/xlstm/blocks/slstm/cell.py:568: FutureWarning: `torch.cuda.amp.custom_bwd(args...)` is deprecated. Please use `torch.amp.custom_bwd(args..., device_type='cuda')` instead.\n",
      "  @conditional_decorator(\n"
     ]
    },
    {
     "name": "stdout",
     "output_type": "stream",
     "text": [
      "1\n",
      "2\n",
      "3\n"
     ]
    }
   ],
   "source": [
    "from pathlib import Path\n",
    "import numpy as np\n",
    "import torch\n",
    "from tirex import ForecastModel, load_model\n",
    "import matplotlib.pyplot as plt\n",
    "import seaborn as sns\n",
    "import os\n",
    "import pandas as pd\n",
    "from typing import Dict\n",
    "import matplotlib.dates as mdates\n",
    "\n",
    "model: ForecastModel = load_model(\"tirexmodel.ckpt\")\n",
    "\n",
    "project_path  = os.environ.get('TMPDIR') + '/wissdaten/ZKI-PH4/sprint_mosqlimate/data/processed'\n",
    "admin_level = 'state'\n",
    "region_col = 'uf'\n",
    "q10 = []\n",
    "q20 = []\n",
    "q30 = []\n",
    "q40 = []\n",
    "q50 = []\n",
    "q60 = []\n",
    "q70 = []\n",
    "q80 = []\n",
    "q90 = []\n",
    "pred_list = []\n",
    "state_list = []\n",
    "val_set_list = []\n",
    "dates_list = []\n",
    "for val_set in [1, 2, 3]:\n",
    "    context_path = os.path.join(project_path, f'train_std_{admin_level}_{val_set}.csv')\n",
    "    context = pd.read_csv(context_path)[['date', region_col, 'cases']]\n",
    "\n",
    "    dates_path = os.path.join(project_path, f'val_std_{admin_level}_{val_set}.csv')\n",
    "    dates = pd.read_csv(dates_path)[['date']]\n",
    "    dates = dates.date.unique().tolist()\n",
    "    prediction_length = len(dates)\n",
    "\n",
    "    for state in context[region_col].unique():\n",
    "        \n",
    "        context_state = context.loc[context[region_col] == state].copy()\n",
    "        pred_raw, preds_ = model.forecast(\n",
    "                    context=context_state['cases'].values,\n",
    "                    prediction_length=prediction_length\n",
    "                )\n",
    "        val_set_list+=[val_set]*prediction_length\n",
    "        dates_list+=dates\n",
    "        state_list+=[state]*prediction_length\n",
    "        pred_list+=preds_[0].tolist()\n",
    "        q10+=pred_raw[0,:,0].tolist()\n",
    "        q20+=pred_raw[0,:,1].tolist()\n",
    "        q30+=pred_raw[0,:,2].tolist()\n",
    "        q40+=pred_raw[0,:,3].tolist()\n",
    "        q50+=pred_raw[0,:,4].tolist()\n",
    "        q60+=pred_raw[0,:,5].tolist()\n",
    "        q70+=pred_raw[0,:,6].tolist()\n",
    "        q80+=pred_raw[0,:,7].tolist()\n",
    "        q90+=pred_raw[0,:,8].tolist()\n",
    "\n",
    "forecast_results = pd.DataFrame({'val_set_id': val_set_list, 'date': dates_list, 'uf': state_list, 'cases_pred': pred_list, \n",
    "                                 'q10': q10, 'q20': q20, 'q30': q30, 'q40': q40, 'q50': q50,\n",
    "                                 'q60': q60, 'q70': q70, 'q80': q80, 'q90': q90,})\n",
    "forecast_results.to_csv(os.environ.get('TMPDIR') + '/wissdaten/ZKI-PH4/sprint_mosqlimate/data/forecasts/tirex/context=all_cases.csv', sep=',', index=False, header=True)"
   ]
  },
  {
   "cell_type": "code",
   "execution_count": 6,
   "metadata": {},
   "outputs": [],
   "source": [
    "import pandas as pd\n",
    "project_path  = os.environ.get('TMPDIR') + '/wissdaten/ZKI-PH4/sprint_mosqlimate/data/processed'\n",
    "context_path = os.path.join(project_path, f'train_std_state_1.csv')\n",
    "context = pd.read_csv(context_path).columns"
   ]
  },
  {
   "cell_type": "code",
   "execution_count": 22,
   "metadata": {},
   "outputs": [
    {
     "name": "stdout",
     "output_type": "stream",
     "text": [
      "Loading weights from local directory\n"
     ]
    },
    {
     "name": "stderr",
     "output_type": "stream",
     "text": [
      "/home/bangertb/.conda/envs/tirex/lib/python3.11/site-packages/xlstm/blocks/slstm/cell.py:543: FutureWarning: `torch.cuda.amp.custom_fwd(args...)` is deprecated. Please use `torch.amp.custom_fwd(args..., device_type='cuda')` instead.\n",
      "  @conditional_decorator(\n",
      "/home/bangertb/.conda/envs/tirex/lib/python3.11/site-packages/xlstm/blocks/slstm/cell.py:568: FutureWarning: `torch.cuda.amp.custom_bwd(args...)` is deprecated. Please use `torch.amp.custom_bwd(args..., device_type='cuda')` instead.\n",
      "  @conditional_decorator(\n"
     ]
    },
    {
     "name": "stdout",
     "output_type": "stream",
     "text": [
      "NaN detected\n",
      "NaN detected\n",
      "NaN detected\n"
     ]
    }
   ],
   "source": [
    "from pathlib import Path\n",
    "import numpy as np\n",
    "import torch\n",
    "from tirex import ForecastModel, load_model\n",
    "import matplotlib.pyplot as plt\n",
    "import seaborn as sns\n",
    "import os\n",
    "import pandas as pd\n",
    "from typing import Dict\n",
    "import matplotlib.dates as mdates\n",
    "from sklearn.metrics import root_mean_squared_error\n",
    "model: ForecastModel = load_model(\"NX-AI/TiRex/model.ckpt\")\n",
    "\n",
    "#!hpc-ticket\n",
    "#!hpc-mount wissdaten\n",
    "\n",
    "project_path  = os.environ.get('TMPDIR') + '/wissdaten/ZKI-PH4/sprint_mosqlimate/data/processed'\n",
    "admin_level = 'state'\n",
    "region_col = 'uf'\n",
    "columns_to_forecast = ['cases',\n",
    "       'temp_min', 'temp_med', 'temp_max', 'precip_min', 'precip_med',\n",
    "       'precip_max', 'pressure_min', 'pressure_med', 'pressure_max',\n",
    "       'rel_humid_min', 'rel_humid_med', 'rel_humid_max', 'thermal_range',\n",
    "       'rainy_days', 'enso', 'iod', 'pdo']\n",
    "\n",
    "for feature_col in columns_to_forecast:\n",
    "    q10 = []\n",
    "    q20 = []\n",
    "    q30 = []\n",
    "    q40 = []\n",
    "    q50 = []\n",
    "    q60 = []\n",
    "    q70 = []\n",
    "    q80 = []\n",
    "    q90 = []\n",
    "    pred_list = []\n",
    "    state_list = []\n",
    "    val_set_list = []\n",
    "    dates_list = []\n",
    "    rmse = 0\n",
    "    for val_set in [1, 2, 3]:\n",
    "        context_path = os.path.join(project_path, f'train_std_{admin_level}_{val_set}.csv')\n",
    "        context = pd.read_csv(context_path)[['date', region_col, feature_col]]\n",
    "    \n",
    "        dates_path = os.path.join(project_path, f'val_std_{admin_level}_{val_set}.csv')\n",
    "        val_data = pd.read_csv(dates_path)\n",
    "        dates = val_data[['date']]\n",
    "        dates = dates.date.unique().tolist()\n",
    "        prediction_length = len(dates)\n",
    "    \n",
    "        for state in context[region_col].unique():\n",
    "            \n",
    "            context_state = context.loc[context[region_col] == state].copy()\n",
    "            pred_raw, preds_ = model.forecast(\n",
    "                        context=context_state[feature_col].values,\n",
    "                        prediction_length=prediction_length\n",
    "                    )\n",
    "            val_set_list+=[val_set]*prediction_length\n",
    "            dates_list+=dates\n",
    "            state_list+=[state]*prediction_length\n",
    "            pred_list+=preds_[0].tolist()\n",
    "            q10+=pred_raw[0,:,0].tolist()\n",
    "            q20+=pred_raw[0,:,1].tolist()\n",
    "            q30+=pred_raw[0,:,2].tolist()\n",
    "            q40+=pred_raw[0,:,3].tolist()\n",
    "            q50+=pred_raw[0,:,4].tolist()\n",
    "            q60+=pred_raw[0,:,5].tolist()\n",
    "            q70+=pred_raw[0,:,6].tolist()\n",
    "            q80+=pred_raw[0,:,7].tolist()\n",
    "            q90+=pred_raw[0,:,8].tolist()\n",
    "        \n",
    "        rmse_df = pd.DataFrame({'date': dates_list[-prediction_length*len(context[region_col].unique()):], 'uf': state_list[-prediction_length*len(context[region_col].unique()):],\n",
    "            f'{feature_col}_pred': pred_list[-prediction_length*len(context[region_col].unique()):]})\n",
    "        rmse_df = pd.merge(rmse_df, val_data[['date', 'uf', feature_col]], on=['date', 'uf'], how='left')\n",
    "        try:\n",
    "            rmse+=root_mean_squared_error(rmse_df[feature_col],rmse_df[f'{feature_col}_pred'])\n",
    "        except:\n",
    "            rmse = 'NaN'\n",
    "            print('NaN detected')\n",
    "                \n",
    "    forecast_results = pd.DataFrame({'val_set_id': val_set_list, 'date': dates_list, 'uf': state_list, feature_col: pred_list, \n",
    "                                     'q10': q10, 'q20': q20, 'q30': q30, 'q40': q40, 'q50': q50,\n",
    "                                     'q60': q60, 'q70': q70, 'q80': q80, 'q90': q90,})\n",
    "    if rmse == 'NaN':\n",
    "        avgrmse = 'NaN'\n",
    "    else:\n",
    "        avgrmse = rmse / 3\n",
    "    forecast_results.to_csv(os.environ.get('TMPDIR') + f'/wissdaten/ZKI-PH4/sprint_mosqlimate/data/forecasts/tirex/context=all_avgrmse={avgrmse}_{feature_col}.csv', sep=',', index=False, header=True)"
   ]
  }
 ],
 "metadata": {
  "accelerator": "GPU",
  "colab": {
   "gpuType": "T4",
   "provenance": []
  },
  "kernelspec": {
   "display_name": "tirex",
   "language": "python",
   "name": "tirex"
  },
  "language_info": {
   "codemirror_mode": {
    "name": "ipython",
    "version": 3
   },
   "file_extension": ".py",
   "mimetype": "text/x-python",
   "name": "python",
   "nbconvert_exporter": "python",
   "pygments_lexer": "ipython3",
   "version": "3.11.13"
  }
 },
 "nbformat": 4,
 "nbformat_minor": 4
}
